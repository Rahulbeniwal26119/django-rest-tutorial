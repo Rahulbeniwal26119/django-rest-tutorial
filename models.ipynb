{
 "cells": [
  {
   "cell_type": "code",
   "execution_count": 1,
   "metadata": {},
   "outputs": [],
   "source": [
    "import os ,django \n",
    "os.environ.setdefault(\"DJANGO_SETTINGS_MODULE\", \"rest_app.settings\")\n",
    "os.environ[\"DJANGO_ALLOW_ASYNC_UNSAFE\"] = \"true\"\n",
    "django.setup()\n"
   ]
  },
  {
   "cell_type": "code",
   "execution_count": 9,
   "metadata": {},
   "outputs": [
    {
     "data": {
      "text/plain": [
       "<Billing: test 7>"
      ]
     },
     "execution_count": 9,
     "metadata": {},
     "output_type": "execute_result"
    }
   ],
   "source": [
    "from pagination.models import Billing\n",
    "Billing.objects.create(\n",
    "    name=\"test 7\",\n",
    "    amount=107,\n",
    "    date=\"2020-01-07\",\n",
    "    description=\"test 7\",\n",
    "    created_at=\"2020-01-07\",\n",
    "    updated_at=\"2020-01-07\"\n",
    ")"
   ]
  },
  {
   "cell_type": "code",
   "execution_count": 6,
   "metadata": {},
   "outputs": [
    {
     "ename": "TypeError",
     "evalue": "object of type 'Settings' has no len()",
     "output_type": "error",
     "traceback": [
      "\u001b[0;31m---------------------------------------------------------------------------\u001b[0m",
      "\u001b[0;31mTypeError\u001b[0m                                 Traceback (most recent call last)",
      "\u001b[1;32m/home/rahul/project/rest/models.ipynb Cell 2'\u001b[0m in \u001b[0;36m<cell line: 5>\u001b[0;34m()\u001b[0m\n\u001b[1;32m      <a href='vscode-notebook-cell:/home/rahul/project/rest/models.ipynb#ch0000015?line=1'>2</a>\u001b[0m \u001b[39mfrom\u001b[39;00m \u001b[39mrest_framework\u001b[39;00m\u001b[39m.\u001b[39;00m\u001b[39msettings\u001b[39;00m \u001b[39mimport\u001b[39;00m settings\n\u001b[1;32m      <a href='vscode-notebook-cell:/home/rahul/project/rest/models.ipynb#ch0000015?line=3'>4</a>\u001b[0m django_settings \u001b[39m==\u001b[39m settings\n\u001b[0;32m----> <a href='vscode-notebook-cell:/home/rahul/project/rest/models.ipynb#ch0000015?line=4'>5</a>\u001b[0m \u001b[39mlen\u001b[39;49m(settings)\n",
      "File \u001b[0;32m~/project/rest/venv/lib/python3.10/site-packages/django/utils/functional.py:259\u001b[0m, in \u001b[0;36mnew_method_proxy.<locals>.inner\u001b[0;34m(self, *args)\u001b[0m\n\u001b[1;32m    <a href='file:///home/rahul/project/rest/venv/lib/python3.10/site-packages/django/utils/functional.py?line=256'>257</a>\u001b[0m \u001b[39mif\u001b[39;00m \u001b[39mself\u001b[39m\u001b[39m.\u001b[39m_wrapped \u001b[39mis\u001b[39;00m empty:\n\u001b[1;32m    <a href='file:///home/rahul/project/rest/venv/lib/python3.10/site-packages/django/utils/functional.py?line=257'>258</a>\u001b[0m     \u001b[39mself\u001b[39m\u001b[39m.\u001b[39m_setup()\n\u001b[0;32m--> <a href='file:///home/rahul/project/rest/venv/lib/python3.10/site-packages/django/utils/functional.py?line=258'>259</a>\u001b[0m \u001b[39mreturn\u001b[39;00m func(\u001b[39mself\u001b[39;49m\u001b[39m.\u001b[39;49m_wrapped, \u001b[39m*\u001b[39;49margs)\n",
      "\u001b[0;31mTypeError\u001b[0m: object of type 'Settings' has no len()"
     ]
    }
   ],
   "source": [
    "from django.conf import settings as django_settings\n",
    "from rest_framework.settings import settings\n",
    "\n",
    "django_settings == settings\n",
    "len(settings)"
   ]
  },
  {
   "cell_type": "code",
   "execution_count": null,
   "metadata": {},
   "outputs": [],
   "source": [
    "from rest_app_1.models import Student\n",
    "\n",
    "try:\n",
    "    update_row_count = Student.objects.filter(name='Rahul').update(age=30)\n",
    "    if not update_row_count:\n",
    "        raise Student.DoesNotExist(\"Student with name 'Rahul' does not exist\")\n",
    "except Student.DoesNotExist:\n",
    "    s = Student.objects.create(name='John', age=30)\n",
    "\n",
    "\n",
    "    \n"
   ]
  },
  {
   "cell_type": "code",
   "execution_count": null,
   "metadata": {},
   "outputs": [],
   "source": [
    "Student.objects.filter(name='Rahul').update(age=22)"
   ]
  },
  {
   "cell_type": "code",
   "execution_count": null,
   "metadata": {},
   "outputs": [],
   "source": [
    "# Write python Program to reverse a number and\n",
    "# also find the sum of digits in the reversed umber.\n",
    "# Prompt the user for input\n",
    "from functools import reduce\n",
    "\n",
    "num = input(\"Enter a number\")\n",
    "reverse_number = num[::-1]\n",
    "summation = reduce(lambda a, b : a + b, map(int, reverse_number))\n",
    "print(\"Reverse of the number is:\", reverse_number)\n",
    "print(summation)"
   ]
  },
  {
   "cell_type": "code",
   "execution_count": null,
   "metadata": {},
   "outputs": [],
   "source": [
    "# Write python program to find the GCD of two positive numbers.\n",
    "def gcd(a ,b):\n",
    "    if b == 0:\n",
    "        return a \n",
    "    else:\n",
    "        return gcd(b, a % b)\n",
    "\n",
    "print(gcd(12,8))"
   ]
  },
  {
   "cell_type": "markdown",
   "metadata": {},
   "source": [
    " Write a program to print the following pattern: \n",
    "        *\n",
    "    *       *\n",
    "*               *\n",
    "    *       *\n",
    "        *"
   ]
  },
  {
   "cell_type": "markdown",
   "metadata": {},
   "source": [
    "            *\n",
    "        *       *\n",
    "    *               *\n",
    " *                     *\n",
    "    *               *\n",
    "        *       *\n",
    "            *"
   ]
  },
  {
   "cell_type": "code",
   "execution_count": null,
   "metadata": {},
   "outputs": [],
   "source": [
    "level = int(input(\"enter the level\"))\n",
    "max_blocks = 2 * level - 1 \n",
    "level -= 1 \n",
    "seperator = \" \" \n",
    "print(\"*\".center( max_blocks, seperator))\n",
    "\n",
    "for i in range(1, level+1):\n",
    "    space = level-i\n",
    "    print(seperator * (space) + \"*\" + seperator * (max_blocks - 2 * space - 2) + \"*\" +  seperator * (space))\n",
    "\n",
    "for i in range(1, level):\n",
    "    space = i\n",
    "    print(seperator * (space) + \"*\" + seperator * (max_blocks - 2 * space - 2) + \"*\" +  seperator * (space))\n",
    "\n",
    "print(\"*\".center(max_blocks, \" \"))"
   ]
  },
  {
   "cell_type": "code",
   "execution_count": 36,
   "metadata": {},
   "outputs": [],
   "source": [
    "from snippets.models import Snippets\n",
    "from snippets.serializers import SnippetsSerializer\n",
    "from rest_framework.renderers import JSONRenderer\n",
    "from rest_framework.parsers import JSONParser\n",
    "from django.http import JsonResponse\n",
    "import simplejson as json "
   ]
  },
  {
   "cell_type": "code",
   "execution_count": null,
   "metadata": {},
   "outputs": [],
   "source": [
    "snippets = Snippets(code='foo = bar\\n')\n",
    "snippets.save()\n",
    "snippets = Snippets(code='print(\"hello world\")\\n')\n",
    "snippets.save()\n"
   ]
  },
  {
   "cell_type": "code",
   "execution_count": null,
   "metadata": {},
   "outputs": [],
   "source": [
    "\n",
    "snippets = Snippets.objects.all()\n",
    "serializer = SnippetsSerializer(snippets, many=True)\n",
    "# serializer.is_valid()\n",
    "import io \n",
    "print(\" ********** Serializer Data **********\")\n",
    "print(json.dumps(serializer.data))\n",
    "print(\" ********** Serializer Data **********\")\n",
    "print(\" ********** Json Render **********\")\n",
    "print(JSONRenderer().render(serializer.data))\n",
    "print(\" ********** Json Render **********\")\n",
    "print(\" ********** Json Parser **********\")\n",
    "print(JSONParser().parse(io.BytesIO(JSONRenderer().render(serializer.data))))\n",
    "print(\" ********** Json Parser **********\")\n",
    "\n",
    "new_serializer  = SnippetsSerializer(data=\n",
    "    JSONParser().parse(\n",
    "        io.BytesIO(\n",
    "            bytes(\n",
    "                json.dumps(serializer.data), encoding='utf-8')\n",
    "            )\n",
    "        )\n",
    "    )\n",
    "# data input should be an instance of dict\n",
    "\n",
    "print(new_serializer.is_valid())\n",
    "print(new_serializer.validated_data)\n",
    "json_render = JSONRenderer().render(serializer.data)\n",
    "print(json_render)\n",
    "import io \n",
    "\n",
    "stream = io.BytesIO(json_render)\n",
    "JSONParser().parse(stream)"
   ]
  },
  {
   "cell_type": "code",
   "execution_count": null,
   "metadata": {},
   "outputs": [],
   "source": [
    "from snippets.serializers import SnippetsModelSerializer\n",
    "serializers = SnippetsModelSerializer()\n",
    "print(repr(serializers))"
   ]
  },
  {
   "cell_type": "code",
   "execution_count": null,
   "metadata": {},
   "outputs": [],
   "source": [
    "snippets = snippets.values(\"code\") # is_valid requires a list of dicts\n",
    "serializer = SnippetsSerializer(data=list(snippets), many=True)\n",
    "if not serializer.is_valid():\n",
    "    print(serializer.error_messages)\n",
    "    print(serializer.errors)\n",
    "    print(repr(serializer))\n",
    "print(serializer.validated_data)\n",
    "serializer.is_valid()\n",
    "print(\"serializer.validated_data\", serializer.validated_data)"
   ]
  },
  {
   "cell_type": "code",
   "execution_count": 46,
   "metadata": {},
   "outputs": [
    {
     "data": {
      "text/plain": [
       "<JsonResponse status_code=200, \"application/json\">"
      ]
     },
     "execution_count": 46,
     "metadata": {},
     "output_type": "execute_result"
    }
   ],
   "source": [
    "\n",
    "snippet = Snippets.objects.get(pk=2)\n",
    "JsonResponse(SnippetsSerializer(snippet).data, status=200)"
   ]
  },
  {
   "cell_type": "code",
   "execution_count": null,
   "metadata": {},
   "outputs": [],
   "source": []
  }
 ],
 "metadata": {
  "interpreter": {
   "hash": "14d1a336a5d0a9f27c6e9ae878bd2adc48d29b1972f98f3643b654eb834e99e6"
  },
  "kernelspec": {
   "display_name": "Python 3.9.7 ('venv': venv)",
   "language": "python",
   "name": "python3"
  },
  "language_info": {
   "codemirror_mode": {
    "name": "ipython",
    "version": 3
   },
   "file_extension": ".py",
   "mimetype": "text/x-python",
   "name": "python",
   "nbconvert_exporter": "python",
   "pygments_lexer": "ipython3",
   "version": "3.10.4"
  },
  "orig_nbformat": 4
 },
 "nbformat": 4,
 "nbformat_minor": 2
}
